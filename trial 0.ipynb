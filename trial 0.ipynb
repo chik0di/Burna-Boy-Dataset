{
 "cells": [
  {
   "cell_type": "code",
   "execution_count": 1,
   "metadata": {},
   "outputs": [],
   "source": [
    "# Importing necessary libraries\n",
    "\n",
    "import spotipy\n",
    "import pandas as pd\n",
    "import numpy as np\n",
    "import time\n",
    "from requests.exceptions import ReadTimeout\n",
    "from spotipy.exceptions import SpotifyException\n",
    "from timeit import default_timer as timer\n",
    "from datetime import timedelta\n",
    "from pandas.api.types import CategoricalDtype"
   ]
  },
  {
   "cell_type": "code",
   "execution_count": 2,
   "metadata": {},
   "outputs": [],
   "source": [
    "# Spotify API tokens for access\n",
    "from spotipy.oauth2 import SpotifyClientCredentials\n",
    "\n",
    "client_id= '82e34e96969c4e11ac1b014fa90d434e'\n",
    "client_secret = '17b50408fa4d48658c8bd5aa43064c9a'\n",
    "client_credentials_manager = SpotifyClientCredentials(\n",
    "                                client_id = client_id, client_secret = client_secret)\n",
    "\n",
    "sp = spotipy.Spotify(client_credentials_manager=client_credentials_manager)"
   ]
  },
  {
   "cell_type": "code",
   "execution_count": 3,
   "metadata": {},
   "outputs": [],
   "source": [
    "# function to know how long it'll take to scrape the data\n",
    "\n",
    "def format_time(seconds):\n",
    "    minutes = seconds // 60\n",
    "    seconds = seconds % 60\n",
    "    if minutes > 0:\n",
    "        return f\"{minutes} minutes, {seconds} seconds\"\n",
    "    else:\n",
    "        return f\"{seconds} seconds\""
   ]
  },
  {
   "cell_type": "code",
   "execution_count": 4,
   "metadata": {},
   "outputs": [
    {
     "name": "stdout",
     "output_type": "stream",
     "text": [
      "Elapsed time: 5 minutes, 55 seconds\n"
     ]
    }
   ],
   "source": [
    "# start time\n",
    "start_time = timer()\n",
    "\n",
    "# For Burna Boy as a main artist\n",
    "artist_name = []\n",
    "track_name = []\n",
    "track_id = []\n",
    "album_name = []\n",
    "album_id = []\n",
    "release_date = []\n",
    "popularity = []\n",
    "explicit = []\n",
    "danceability = []\n",
    "duration_ms = []\n",
    "energy = []\n",
    "key = []\n",
    "loudness = []\n",
    "mode = []\n",
    "speechiness = []\n",
    "acousticness = []\n",
    "instrumentalness = []\n",
    "liveness = []\n",
    "valence = []\n",
    "tempo = []\n",
    "time_signature = []\n",
    "featured_artists = []\n",
    "\n",
    "# loop through results, using offset to get all tracks\n",
    "for i in range(0, 1000, 50):\n",
    "    try:\n",
    "        track_results = sp.search(q='artist: Burna Boy', type='track', limit=50, offset=i)\n",
    "        for i, t in enumerate(track_results['tracks']['items']):\n",
    "        \n",
    "            # get track details\n",
    "            artist_name.append(t['artists'][0]['name'])\n",
    "            track_name.append(t['name'])\n",
    "            track_id.append(t['id'])\n",
    "            album_name.append(t['album']['name'])\n",
    "            album_id.append(t['album']['id'])\n",
    "            release_date.append(t['album']['release_date'])\n",
    "            popularity.append(t['popularity'])\n",
    "            explicit.append(t['explicit'])\n",
    "\n",
    "            # get audio features for track\n",
    "            audio_features = sp.audio_features(t['id'])[0]\n",
    "            danceability.append(audio_features['danceability'])\n",
    "            duration_ms.append(audio_features['duration_ms'])\n",
    "            energy.append(audio_features['energy'])\n",
    "            key.append(audio_features['key'])\n",
    "            loudness.append(audio_features['loudness'])\n",
    "            mode.append(audio_features['mode'])\n",
    "            speechiness.append(audio_features['speechiness'])\n",
    "            acousticness.append(audio_features['acousticness'])\n",
    "            instrumentalness.append(audio_features['instrumentalness'])\n",
    "            liveness.append(audio_features['liveness'])\n",
    "            valence.append(audio_features['valence'])\n",
    "            tempo.append(audio_features['tempo'])\n",
    "            time_signature.append(audio_features['time_signature'])\n",
    "        \n",
    "\n",
    "            # get featured artists\n",
    "            if len(t['artists']) > 1:\n",
    "                feat_artists = []\n",
    "                for j in range(1, len(t['artists'])):\n",
    "                    feat_artists.append(t['artists'][j]['name'])\n",
    "                featured_artists.append(feat_artists)\n",
    "            else:\n",
    "                featured_artists.append([])\n",
    "    except ReadTimeout as e:\n",
    "        print(f\"Error: {e}. Retrying in 5 seconds...\")\n",
    "        time.sleep(5)  # Retry after a short delay\n",
    "    except SpotifyException as e:\n",
    "        print(f\"Spotify API Error: {e}\")\n",
    "        break\n",
    "\n",
    "# create dataframe from lists\n",
    "df_raw = pd.DataFrame({\n",
    "    'artist_name': artist_name,\n",
    "    'track_name': track_name,\n",
    "    'track_id': track_id,\n",
    "    'album_name': album_name,\n",
    "    'album_id': album_id,\n",
    "    'release_date': release_date,\n",
    "    'duration_ms': duration_ms,\n",
    "    'popularity': popularity,\n",
    "    'explicit': explicit,\n",
    "    'danceability': danceability,\n",
    "    'energy': energy,\n",
    "    'key': key,\n",
    "    'loudness': loudness,\n",
    "    'mode': mode,\n",
    "    'speechiness': speechiness,\n",
    "    'acousticness': acousticness,\n",
    "    'instrumentalness': instrumentalness,\n",
    "    'liveness': liveness,\n",
    "    'valence': valence,\n",
    "    'tempo': tempo,\n",
    "    'time_signature': time_signature,\n",
    "    'featured_artists': featured_artists\n",
    "})\n",
    "\n",
    "\n",
    "\n",
    "# end time and print\n",
    "end_time = timer()\n",
    "elapsed_time = int(end_time - start_time)\n",
    "print(f\"Elapsed time: {format_time(elapsed_time)}\")"
   ]
  },
  {
   "cell_type": "code",
   "execution_count": 10,
   "metadata": {},
   "outputs": [],
   "source": [
    "# keeping records with only 'Burna Boy' as the artist name\n",
    "df_burna = df_raw[df_raw['artist_name']=='Burna Boy']"
   ]
  },
  {
   "cell_type": "code",
   "execution_count": 11,
   "metadata": {},
   "outputs": [],
   "source": [
    "# Burna's Spotify has one album with two spelling variations: 'On a Spaceship' and 'On A Spaceship' which are basically the same thing and this is proof \n",
    "\n",
    "spaceship = (df_burna['album_name'] == 'On a Spaceship') | (df_burna['album_name'] == 'On A Spaceship')\n",
    "proof = df_burna.loc[spaceship].sort_values(by= 'track_name')"
   ]
  },
  {
   "cell_type": "code",
   "execution_count": 14,
   "metadata": {},
   "outputs": [
    {
     "name": "stderr",
     "output_type": "stream",
     "text": [
      "C:\\Users\\HP\\AppData\\Local\\Temp\\ipykernel_5952\\1328360805.py:5: SettingWithCopyWarning: \n",
      "A value is trying to be set on a copy of a slice from a DataFrame\n",
      "\n",
      "See the caveats in the documentation: https://pandas.pydata.org/pandas-docs/stable/user_guide/indexing.html#returning-a-view-versus-a-copy\n",
      "  df_burna.at[223, 'track_name'] = ' '.join(df_burna.at[225, 'track_name'].split()[:3])\n"
     ]
    }
   ],
   "source": [
    "# Having examined the content of the two album values, we'll now keep one: 'On A Spaceship\n",
    "\n",
    "# This variation we're keeping is missing one track and we will complete it with the other one \n",
    "\n",
    "df_burna.at[223, 'track_name'] = ' '.join(df_burna.at[225, 'track_name'].split()[:3])\n",
    "df_burna.at[223, 'album_name'] = df_burna.at[225, 'album_name'].replace('On a Spaceship', 'On A Spaceship')\n",
    "df_burna = df_burna.drop(df_burna[df_burna['album_name'] == 'On a Spaceship'].index)"
   ]
  },
  {
   "cell_type": "code",
   "execution_count": 15,
   "metadata": {},
   "outputs": [],
   "source": [
    "# creating a new column to categorize songs to either Singles, Albums, EPs, Compilations\n",
    "\n",
    "# Do this separately for the main_track df and the ft df, call it features for the ft df, before concat\n",
    "\n",
    "albums_to_filter = ['I Told Them...', \n",
    "                    'Love, Damini',\n",
    "                    'Twice As Tall',\n",
    "                    'African Giant',\n",
    "                    'Outside',\n",
    "                    'On A Spaceship',\n",
    "                    'L.I.F.E - Leaving an Impact for Eternity (Deluxe Edition)']\n",
    "\n",
    "ep = ['Redemption', 'Steel & Copper']\n",
    "\n",
    "compilation = ['Best of Burna Boy', 'Best of Burn Series, Vol. 1']\n",
    "\n",
    "# Define conditions for each type\n",
    "single_condition = df_burna['track_name'] == df_burna['album_name']\n",
    "album_condition = df_burna['album_name'].isin(albums_to_filter)\n",
    "ep_condition = df_burna['album_name'].isin(ep)\n",
    "compilation_condition = df_burna['album_name'].isin(compilation)\n",
    "\n",
    "# Update 'type' based on conditions\n",
    "df_burna.loc[single_condition, 'type'] = 'Single'\n",
    "df_burna.loc[album_condition, 'type'] = 'Album'\n",
    "df_burna.loc[ep_condition, 'type'] = 'EP'\n",
    "df_burna.loc[compilation_condition, 'type'] = 'Compilation'"
   ]
  },
  {
   "cell_type": "code",
   "execution_count": 16,
   "metadata": {},
   "outputs": [
    {
     "name": "stdout",
     "output_type": "stream",
     "text": [
      "Elapsed time: 1 minutes, 22 seconds\n"
     ]
    }
   ],
   "source": [
    "# scraping a playlist that contains all Burna Boy's features \n",
    "\n",
    "# start time\n",
    "start_time = timer()\n",
    "\n",
    "# Get playlist URI\n",
    "playlist_uri = \"https://open.spotify.com/playlist/0td2WSZ8vJjToLUjq3VELy?si=1d42b850ed6d421b\"\n",
    "\n",
    "# Get playlist tracks\n",
    "playlist = sp.playlist(playlist_uri)\n",
    "tracks = playlist['tracks']['items']\n",
    "\n",
    "# Initialize data structures\n",
    "song_features = []\n",
    "\n",
    "# Define offset for pagination\n",
    "offset = 0\n",
    "limit = 100\n",
    "\n",
    "# Iterate through playlist tracks, making additional requests as needed\n",
    "while True:\n",
    "    # Get playlist tracks with pagination\n",
    "    results = sp.user_playlist_tracks(user=\"Uncle Pat\", playlist_id=playlist_uri, offset=offset, limit=limit)\n",
    "\n",
    "    # Check if there are more tracks to retrieve\n",
    "    if not results['items']:\n",
    "        break\n",
    "\n",
    "    # Extract track information and audio features\n",
    "    for track in results['items']:\n",
    "        track_uri = track['track']['uri']\n",
    "        track_name = track['track']['name']\n",
    "\n",
    "        # Extract track information\n",
    "        track_info = sp.track(track_uri)\n",
    "        artist_name = track_info['artists'][0]['name']\n",
    "        track_name = track_info['name']\n",
    "        track_id = track_info['id']\n",
    "        album_name = track_info['album']['name']\n",
    "        album_id = track_info['album']['id']\n",
    "        release_date = track_info['album']['release_date']\n",
    "        duration_ms = track_info['duration_ms']\n",
    "        popularity = track_info['popularity']\n",
    "        explicit = track_info['explicit']\n",
    "        \n",
    "        \n",
    "        # Extract audio features\n",
    "        track_features = sp.audio_features(track_uri)\n",
    "\n",
    "        # Check if audio features are available\n",
    "        if track_features:\n",
    "            track_features = track_features[0]\n",
    "\n",
    "            # Extract audio features\n",
    "            danceability = track_features['danceability']\n",
    "            energy = track_features['energy']\n",
    "            key = track_features['key']\n",
    "            loudness = track_features['loudness']\n",
    "            mode = track_features['mode']\n",
    "            speechiness = track_features['speechiness']\n",
    "            acousticness = track_features['acousticness']\n",
    "            instrumentalness = track_features['instrumentalness']\n",
    "            liveness = track_features['liveness']\n",
    "            valence = track_features['valence']            \n",
    "            tempo = track_features['tempo']\n",
    "            time_signature = track_features['time_signature']\n",
    "            \n",
    "            # get featured artists\n",
    "            featured_artists = []\n",
    "            if len(track_info['artists']) > 1:\n",
    "                feat_artists = []\n",
    "                for j in range(1, len(track_info['artists'])):\n",
    "                    feat_artists.append(track_info['artists'][j]['name'])\n",
    "                featured_artists.append(feat_artists)\n",
    "            else:\n",
    "                featured_artists.append([])\n",
    "   \n",
    "\n",
    "            # Store data\n",
    "            song_features.append([\n",
    "                artist_name, track_name, track_id, album_name,\n",
    "                album_id, release_date, duration_ms, popularity,\n",
    "                explicit, danceability, energy, key, loudness,\n",
    "                mode, speechiness, acousticness, instrumentalness,\n",
    "                liveness, valence, tempo, time_signature, featured_artists\n",
    "            ])\n",
    "        else:\n",
    "            print(\"Audio features not available for track:\", track_name)\n",
    "\n",
    "    # Update offset for next request\n",
    "    offset += limit\n",
    "\n",
    "# Save data to CSV file\n",
    "ft = pd.DataFrame(\n",
    "    song_features, \n",
    "    columns=[ 'artist_name', 'track_name', 'track_id', 'album_name', 'album_id',\n",
    "                'release_date', 'duration_ms', 'popularity', 'explicit',\n",
    "                'danceability', 'energy', 'key', 'loudness', 'mode', 'speechiness',\n",
    "                'acousticness', 'instrumentalness', 'liveness',\n",
    "                'valence', 'tempo', 'time_signature', 'featured_artists'])\n",
    "\n",
    "# end time and print\n",
    "end_time = timer()\n",
    "elapsed_time = int(end_time - start_time)\n",
    "print(f\"Elapsed time: {format_time(elapsed_time)}\")"
   ]
  },
  {
   "cell_type": "code",
   "execution_count": 17,
   "metadata": {},
   "outputs": [],
   "source": [
    "# creating a new column to categorize songs from this playlist to Features\n",
    "ft['type']='Feature' "
   ]
  },
  {
   "cell_type": "code",
   "execution_count": 61,
   "metadata": {},
   "outputs": [],
   "source": [
    "# joining the df_burna and ft dataframes\n",
    "df = pd.concat([df_burna, ft], ignore_index= True, sort= False)"
   ]
  },
  {
   "cell_type": "code",
   "execution_count": 62,
   "metadata": {},
   "outputs": [],
   "source": [
    "# Eliminating rows that share the same track name \n",
    "\n",
    "# The main track has higher popularity than duplicate tracks that share the same name hence it was an elimination by popularity\n",
    "\n",
    "df = df.sort_values(by= ['track_name', 'popularity'], ascending= [True, False])\n",
    "df.drop_duplicates(subset= 'track_name', keep= 'first', inplace= True, ignore_index= True)"
   ]
  },
  {
   "cell_type": "code",
   "execution_count": null,
   "metadata": {},
   "outputs": [],
   "source": [
    "# check the records that wasn't assigned any song type ie. single, album, feature, ep, compilation\n",
    "notype = df['type'].isna()\n",
    "flush = df.loc[notype].sort_values(by= 'popularity', ascending= False) "
   ]
  },
  {
   "cell_type": "code",
   "execution_count": 64,
   "metadata": {},
   "outputs": [],
   "source": [
    "# a glance and you'll find movies album soundtracks featuring Burna Boy and these need to be accounted for \n",
    "# locate by index and edit song type\n",
    "df.loc[(20, 136, 172), 'type'] = 'Feature'"
   ]
  },
  {
   "cell_type": "code",
   "execution_count": 65,
   "metadata": {},
   "outputs": [],
   "source": [
    "# go ahead and drop the rest of the records that is not categorized in any song type\n",
    "index_flush = flush.index\n",
    "df = df.drop(index_flush)"
   ]
  },
  {
   "cell_type": "code",
   "execution_count": 66,
   "metadata": {},
   "outputs": [],
   "source": [
    "# modifying the 'mode' column by replacing 0 with Minor and 1 with Major\n",
    "df['mode'].replace({0:'Minor', 1:'Major'}, inplace= True)"
   ]
  },
  {
   "cell_type": "code",
   "execution_count": 67,
   "metadata": {},
   "outputs": [],
   "source": [
    "# modifying the duration_ms column to appear as minutes and seconds \n",
    "\n",
    "df['duration_ms'] = pd.to_timedelta(df['duration_ms'], unit='ms')\n",
    "\n",
    "# extract the minutes and seconds components of the duration as strings\n",
    "df['duration'] = df['duration_ms'].dt.components['minutes'].astype(str).str.zfill(2) + ':' + df['duration_ms'].dt.components['seconds'].astype(str).str.zfill(2)\n",
    "df.drop(columns=['duration_ms'], inplace= True)"
   ]
  },
  {
   "cell_type": "code",
   "execution_count": 68,
   "metadata": {},
   "outputs": [],
   "source": [
    "# creating three new fields: year, month and day a song was released from release date column\n",
    "df['release_date'] = pd.to_datetime(df['release_date'])\n",
    "df['year'] = df['release_date'].dt.year\n",
    "df['month'] = df['release_date'].dt.month_name()\n",
    "df['day_of_the_week'] = df['release_date'].dt.day_name()"
   ]
  },
  {
   "cell_type": "code",
   "execution_count": 70,
   "metadata": {},
   "outputs": [],
   "source": [
    "fd = pd.DataFrame(df)\t"
   ]
  },
  {
   "cell_type": "code",
   "execution_count": 79,
   "metadata": {},
   "outputs": [],
   "source": [
    "# Time to remove the square brackets from the featured artist column \n",
    "\n",
    "# They have square brackets in the first place because it's a group of smaller lists in a larger list that was embbedded in the DataFrame\n",
    "\n",
    "# We convert the data type to string no matter what, then remove the square brackets and apostrophe around it \n",
    "\n",
    "df['featured_artists'] = df['featured_artists'].astype(str)\n",
    "df['featured_artists'] = df['featured_artists'].replace({\"'\": '', '\"': '', r'\\[':'', r'\\]':''}, regex=True)\n"
   ]
  },
  {
   "cell_type": "code",
   "execution_count": 94,
   "metadata": {},
   "outputs": [],
   "source": [
    "key_dict = {\n",
    "    0: \"C\",\n",
    "    1: \"C#/Db\",\n",
    "    2: \"D\",\n",
    "    3: \"D#/Eb\",\n",
    "    4: \"E\",\n",
    "    5: \"F\",\n",
    "    6: \"F#/Gb\",\n",
    "    7: \"G\",\n",
    "    8: \"G#/Ab\",\n",
    "    9: \"A\",\n",
    "    10: \"A#/Bb\",\n",
    "    11: \"B\",\n",
    "    -1: \"NaN\"\n",
    "}\n",
    "\n",
    "df['key'] = df['key'].map(key_dict).fillna(\"NaN\")\n"
   ]
  },
  {
   "cell_type": "code",
   "execution_count": 95,
   "metadata": {},
   "outputs": [],
   "source": [
    "df.to_csv('Burna Boy Discography.csv', index= False)"
   ]
  }
 ],
 "metadata": {
  "kernelspec": {
   "display_name": "Python 3",
   "language": "python",
   "name": "python3"
  },
  "language_info": {
   "codemirror_mode": {
    "name": "ipython",
    "version": 3
   },
   "file_extension": ".py",
   "mimetype": "text/x-python",
   "name": "python",
   "nbconvert_exporter": "python",
   "pygments_lexer": "ipython3",
   "version": "3.11.3"
  }
 },
 "nbformat": 4,
 "nbformat_minor": 2
}
